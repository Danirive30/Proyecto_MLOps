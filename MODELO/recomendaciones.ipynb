{
 "cells": [
  {
   "cell_type": "markdown",
   "metadata": {},
   "source": [
    "### Importar librerias"
   ]
  },
  {
   "cell_type": "code",
   "execution_count": 2,
   "metadata": {},
   "outputs": [],
   "source": [
    "import pandas as pd\n",
    "import numpy as np\n",
    "from sklearn.feature_extraction.text import TfidfVectorizer\n",
    "from sklearn.metrics.pairwise import cosine_similarity\n",
    "import json\n",
    "from flask import Flask, request, jsonify"
   ]
  },
  {
   "cell_type": "markdown",
   "metadata": {},
   "source": [
    "### Cargar el dataset"
   ]
  },
  {
   "cell_type": "code",
   "execution_count": 3,
   "metadata": {},
   "outputs": [],
   "source": [
    "# Cargar el dataset\n",
    "data = pd.read_csv('..\\API\\data_final_ML.csv')"
   ]
  },
  {
   "cell_type": "markdown",
   "metadata": {},
   "source": [
    "### Modelo"
   ]
  },
  {
   "cell_type": "code",
   "execution_count": 4,
   "metadata": {},
   "outputs": [],
   "source": [
    "# Preprocesamiento de datos\n",
    "# Crear una matriz TF-IDF para el texto del título de las películas\n",
    "stopwords_custom = [\"the\", \"and\", \"in\", \"of\"]  # Stopwords personalizados\n",
    "tfidf = TfidfVectorizer(stop_words=stopwords_custom)\n",
    "tfidf_matrix = tfidf.fit_transform(data['title'])\n",
    "\n",
    "# Calcular la similitud del coseno entre los títulos de las películas\n",
    "cosine_similarities = cosine_similarity(tfidf_matrix, tfidf_matrix)\n",
    "\n",
    "# Crear un índice para los títulos\n",
    "indices = pd.Series(data.index, index=data['title']).drop_duplicates()\n",
    "\n",
    "# Función de recomendación\n",
    "\n",
    "\n",
    "def recomendacion(titulo):\n",
    "    # Verificar si el título está en el DataFrame\n",
    "    if titulo not in indices:\n",
    "        return {\"error\": f\"No se encontró ninguna película con el título '{titulo}'.\"}\n",
    "\n",
    "    # Encontrar el índice de la película con el título dado\n",
    "    idx = indices[titulo]\n",
    "\n",
    "    # Calcular las puntuaciones de similitud de todas las películas con la película dada\n",
    "    sim_scores = list(enumerate(cosine_similarities[idx]))\n",
    "\n",
    "    # Ordenar las películas por puntaje de similitud en orden descendente\n",
    "    sim_scores = sorted(sim_scores, key=lambda x: x[1], reverse=True)\n",
    "\n",
    "    # Obtener los índices de las películas más similares (excluyendo la película dada)\n",
    "    sim_scores = sim_scores[1:6]  # Obtener las 5 películas más similares\n",
    "    movie_indices = [x[0] for x in sim_scores]\n",
    "\n",
    "    # Devolver los títulos de las películas más similares\n",
    "    respuesta_recomendacion = data['title'].iloc[movie_indices].tolist()\n",
    "    return {'lista recomendada': respuesta_recomendacion}"
   ]
  },
  {
   "cell_type": "markdown",
   "metadata": {},
   "source": [
    "### Prueba"
   ]
  },
  {
   "cell_type": "code",
   "execution_count": 5,
   "metadata": {},
   "outputs": [
    {
     "data": {
      "text/plain": [
       "{'lista recomendada': ['Paranormal Activity 3',\n",
       "  'Paranormal Activity 4',\n",
       "  'Paranormal Activity: The Marked Ones',\n",
       "  'Ghost',\n",
       "  'Ghost World']}"
      ]
     },
     "execution_count": 5,
     "metadata": {},
     "output_type": "execute_result"
    }
   ],
   "source": [
    "recomendacion(\"Paranormal Activity: The Ghost Dimension\")"
   ]
  }
 ],
 "metadata": {
  "kernelspec": {
   "display_name": "base",
   "language": "python",
   "name": "python3"
  },
  "language_info": {
   "codemirror_mode": {
    "name": "ipython",
    "version": 3
   },
   "file_extension": ".py",
   "mimetype": "text/x-python",
   "name": "python",
   "nbconvert_exporter": "python",
   "pygments_lexer": "ipython3",
   "version": "3.11.0"
  }
 },
 "nbformat": 4,
 "nbformat_minor": 2
}
